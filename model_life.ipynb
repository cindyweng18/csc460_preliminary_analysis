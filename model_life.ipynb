{
  "nbformat": 4,
  "nbformat_minor": 0,
  "metadata": {
    "colab": {
      "name": "model_life.ipynb",
      "provenance": []
    },
    "kernelspec": {
      "name": "python3",
      "display_name": "Python 3"
    },
    "language_info": {
      "name": "python"
    }
  },
  "cells": [
    {
      "cell_type": "markdown",
      "source": [
        "# Life Expectancy Model Training and Evaluation\n",
        "Team Members: Sanjida Nisha, Nour Elabbasy, and Cindy Weng Zhu\n"
      ],
      "metadata": {
        "id": "7ce83RsGwU9p"
      }
    },
    {
      "cell_type": "markdown",
      "source": [
        "# Imports and Downloads"
      ],
      "metadata": {
        "id": "6TV-yGmUwLqe"
      }
    },
    {
      "cell_type": "code",
      "execution_count": 1,
      "metadata": {
        "colab": {
          "base_uri": "https://localhost:8080/"
        },
        "id": "WLTT_1ctzYER",
        "outputId": "743d7bd2-367a-446f-f465-eb9e7c5fee58"
      },
      "outputs": [
        {
          "output_type": "stream",
          "name": "stdout",
          "text": [
            "Downloading...\n",
            "From: https://drive.google.com/uc?id=1IGF8lLxFA9m-dvpmjqFi0V2quqSiwms_&export=download\n",
            "To: /content/cleaned_Life Expectancy Data.csv\n",
            "\r  0% 0.00/134k [00:00<?, ?B/s]\r100% 134k/134k [00:00<00:00, 57.3MB/s]\n"
          ]
        }
      ],
      "source": [
        "# Download pre-processed and clean dataset\n",
        "!gdown \"https://drive.google.com/uc?id=1IGF8lLxFA9m-dvpmjqFi0V2quqSiwms_&export=download\""
      ]
    },
    {
      "cell_type": "code",
      "source": [
        "# Download countries integer encoded columns to use for answering data science question\n",
        "!gdown \"https://drive.google.com/uc?id=1OpBXMFcqd21an9FC2G88ODf0VPPLmgwb&export=download\""
      ],
      "metadata": {
        "colab": {
          "base_uri": "https://localhost:8080/"
        },
        "id": "-KY_k95H6_zg",
        "outputId": "5e9e203e-4824-410a-9bc4-e360758c019d"
      },
      "execution_count": 2,
      "outputs": [
        {
          "output_type": "stream",
          "name": "stdout",
          "text": [
            "Downloading...\n",
            "From: https://drive.google.com/uc?id=1OpBXMFcqd21an9FC2G88ODf0VPPLmgwb&export=download\n",
            "To: /content/countries_codes.csv\n",
            "\r  0% 0.00/42.5k [00:00<?, ?B/s]\r100% 42.5k/42.5k [00:00<00:00, 60.7MB/s]\n"
          ]
        }
      ]
    },
    {
      "cell_type": "code",
      "source": [
        "# Import Libraries\n",
        "import numpy as np\n",
        "import pandas as pd\n",
        "import seaborn as sns\n",
        "import matplotlib.pyplot as plt\n",
        "from sklearn.model_selection import train_test_split\n",
        "from sklearn.linear_model import LinearRegression\n",
        "from sklearn.metrics import mean_absolute_percentage_error, mean_squared_error, mean_absolute_error"
      ],
      "metadata": {
        "id": "AUiYAyX27QI4"
      },
      "execution_count": 3,
      "outputs": []
    },
    {
      "cell_type": "code",
      "source": [
        "df = pd.read_csv(\"/content/cleaned_Life Expectancy Data.csv\")"
      ],
      "metadata": {
        "id": "OY6ezhqy7QsM"
      },
      "execution_count": 4,
      "outputs": []
    },
    {
      "cell_type": "code",
      "source": [
        "countries_codes = pd.read_csv(\"/content/countries_codes.csv\")"
      ],
      "metadata": {
        "id": "7knWLVOp7o8S"
      },
      "execution_count": 5,
      "outputs": []
    },
    {
      "cell_type": "markdown",
      "metadata": {
        "id": "CSs2bnlffjy8"
      },
      "source": [
        "# Model Training"
      ]
    },
    {
      "cell_type": "markdown",
      "metadata": {
        "id": "S30w9MT47ppI"
      },
      "source": [
        "Now that our data is clean and preprocessed, we can move on to the model section where first, we will split the dataset into our features and label. The label or target is going to be `Life Expectancy` while our features are all the columns except our target which are `Status`, `Adult Mortality`, `GDP`, `Population`, `Schooling`, and `Country_int`."
      ]
    },
    {
      "cell_type": "code",
      "metadata": {
        "id": "VB5Qu1r3eRQr"
      },
      "source": [
        "# Split dataset into features and label\n",
        "features = df.loc[:, df.columns != 'Life Expectancy']\n",
        "label = df['Life Expectancy']"
      ],
      "execution_count": 6,
      "outputs": []
    },
    {
      "cell_type": "markdown",
      "metadata": {
        "id": "ECuN-q4H8IvV"
      },
      "source": [
        "Next, we will split our features and labels datasets into training and testing sections for our model using scikit-learn `train_test_split` method where the training set will have 80% of the dataset, and testing set will have 20% of the dataset. We will also use a random state to keep values constant."
      ]
    },
    {
      "cell_type": "code",
      "metadata": {
        "id": "Peud5o01eRVK"
      },
      "source": [
        "# Split features and label to training and testing\n",
        "X_train, X_test, y_train, y_test = train_test_split(features, label, test_size = 0.2, random_state=42)"
      ],
      "execution_count": 7,
      "outputs": []
    },
    {
      "cell_type": "markdown",
      "metadata": {
        "id": "9CNMluJS8jc0"
      },
      "source": [
        "Finally, we will use scikit-learn `LinearRegression` model and train the training section of the features and label."
      ]
    },
    {
      "cell_type": "code",
      "metadata": {
        "colab": {
          "base_uri": "https://localhost:8080/"
        },
        "id": "rBC3mMAteRYu",
        "outputId": "0cd83242-a9f5-4f80-cdd0-9234bf4be268"
      },
      "source": [
        "# Initialize LinearRegression model\n",
        "reg = LinearRegression()\n",
        "\n",
        "# Train LinearRegression model\n",
        "reg.fit(X_train, y_train)"
      ],
      "execution_count": 8,
      "outputs": [
        {
          "output_type": "execute_result",
          "data": {
            "text/plain": [
              "LinearRegression()"
            ]
          },
          "metadata": {},
          "execution_count": 8
        }
      ]
    },
    {
      "cell_type": "markdown",
      "metadata": {
        "id": "xkepoV9YSm3B"
      },
      "source": [
        "# Model Evaluation"
      ]
    },
    {
      "cell_type": "markdown",
      "metadata": {
        "id": "t0Xqo68FqY_w"
      },
      "source": [
        "Next, we can evaluate how well our model performed. Scikit-Learn's Linear Regression library provide multiple metrics to do so. First, we will use the `score` method which returns the coefficient of determination R^2. "
      ]
    },
    {
      "cell_type": "code",
      "metadata": {
        "id": "qiLOVLdseRcg",
        "colab": {
          "base_uri": "https://localhost:8080/"
        },
        "outputId": "eb97725d-396e-4495-a5b6-854a1397c70c"
      },
      "source": [
        "reg.score(X_test, y_test)"
      ],
      "execution_count": 9,
      "outputs": [
        {
          "output_type": "execute_result",
          "data": {
            "text/plain": [
              "0.7108031684026406"
            ]
          },
          "metadata": {},
          "execution_count": 9
        }
      ]
    },
    {
      "cell_type": "markdown",
      "metadata": {
        "id": "btoeLt7aroiK"
      },
      "source": [
        "Our Linear Regression model displays a R^2 score of approximately 0.7. This means that there is a decent variance between our features and labels and that most of our datapoints fall closely to the regression line. \n",
        "\n",
        "We can use a Predicted vs. Actual plot to further explain this observation."
      ]
    },
    {
      "cell_type": "code",
      "metadata": {
        "id": "ZTfigIGefyY1"
      },
      "source": [
        "# Obtain predict values from testing set using predict method\n",
        "y_pred = reg.predict(X_test)"
      ],
      "execution_count": 10,
      "outputs": []
    },
    {
      "cell_type": "code",
      "metadata": {
        "id": "IHraDPqmsq_w",
        "colab": {
          "base_uri": "https://localhost:8080/",
          "height": 295
        },
        "outputId": "e919f50b-92b3-4eaf-8ede-d7e55a13d075"
      },
      "source": [
        "# Use Seaborn's Regplot\n",
        "ax = sns.regplot(x=y_pred, y=y_test, ci=None, scatter_kws={\"color\": \"blue\"}, line_kws={\"color\": \"red\"})\n",
        "\n",
        "# Label axes and title\n",
        "ax.set(xlabel='Predicted Life Expectancy', ylabel='Actual Life Expectancy', title='Predicted vs. Actual Life Expectancy Rates')\n",
        "plt.show()"
      ],
      "execution_count": 11,
      "outputs": [
        {
          "output_type": "display_data",
          "data": {
            "image/png": "[encoded data removed]",
            "text/plain": [
              "<Figure size 432x288 with 1 Axes>"
            ]
          },
          "metadata": {
            "needs_background": "light"
          }
        }
      ]
    },
    {
      "cell_type": "markdown",
      "metadata": {
        "id": "sWbPSweestSb"
      },
      "source": [
        "We can graph the Actual vs. Predicted Life Expectancy rate where we can observe how closely our actual and predicted life expectancy rate from the dataset and the results from the model. Most of our datapoints are very close to the regression line which means that most of our predicted life expectancy rate correspond to the actual life expectancy rate."
      ]
    },
    {
      "cell_type": "markdown",
      "metadata": {
        "id": "HbohCX9Bs4Il"
      },
      "source": [
        "Additionally, Scikit-Learn provides multiple evaluation metrics to use. We will be using the Mean Squared Error (MSE) methods to evaluate our model."
      ]
    },
    {
      "cell_type": "code",
      "metadata": {
        "id": "pCnlukfUf5ce",
        "colab": {
          "base_uri": "https://localhost:8080/"
        },
        "outputId": "158b9143-9a8a-4763-9434-587eaeaf049b"
      },
      "source": [
        "print('Mean Squared Error (MSE):', mean_squared_error(y_test, y_pred))"
      ],
      "execution_count": 12,
      "outputs": [
        {
          "output_type": "stream",
          "name": "stdout",
          "text": [
            "Mean Squared Error (MSE): 25.054647586183645\n"
          ]
        }
      ]
    },
    {
      "cell_type": "markdown",
      "metadata": {
        "id": "GLBbvStA5Qnd"
      },
      "source": [
        "Our model shows a MSE of 25. MSE measures the average of a set of errors and it let us knows how fit our line is to our data. Our MSE is low which shows that many of the datapoints can fit into our line of best fit but not all of them."
      ]
    },
    {
      "cell_type": "markdown",
      "metadata": {
        "id": "i6szAieytgM0"
      },
      "source": [
        "Finally, we should also take a look at the residuals with the help of Seaborn's `residplot` method:"
      ]
    },
    {
      "cell_type": "code",
      "metadata": {
        "id": "cbXRpCz3gT_B",
        "colab": {
          "base_uri": "https://localhost:8080/",
          "height": 350
        },
        "outputId": "9b8d0721-85c6-4632-ea5c-638c3251d04a"
      },
      "source": [
        "# Seaborn's Residplot\n",
        "ax = sns.residplot(y_test, y_pred)\n",
        "\n",
        "# Label axes and title\n",
        "ax.set(xlabel='Life Expectancy', ylabel='Life Expectancy Residual Values', title='Life Expectancy Residual Plot')\n",
        "plt.show()"
      ],
      "execution_count": 13,
      "outputs": [
        {
          "output_type": "stream",
          "name": "stderr",
          "text": [
            "/usr/local/lib/python3.7/dist-packages/seaborn/_decorators.py:43: FutureWarning: Pass the following variables as keyword args: x, y. From version 0.12, the only valid positional argument will be `data`, and passing other arguments without an explicit keyword will result in an error or misinterpretation.\n",
            "  FutureWarning\n"
          ]
        },
        {
          "output_type": "display_data",
          "data": {
            "image/png": "[encoded data removed]",
            "text/plain": [
              "<Figure size 432x288 with 1 Axes>"
            ]
          },
          "metadata": {
            "needs_background": "light"
          }
        }
      ]
    },
    {
      "cell_type": "markdown",
      "metadata": {
        "id": "bTpTXMWG1Q9L"
      },
      "source": [
        "For a decent linear regression, the residual plot would show a random scatter of datapoints. For our model, we have somewhat of a random scatter but it shows more of a pattern than random. Since our model had an R^2 score of approximately 70, there is still room for improvement if we had more time for our project."
      ]
    },
    {
      "cell_type": "markdown",
      "metadata": {
        "id": "jalhizgZpCOG"
      },
      "source": [
        "# Answering our data science question"
      ]
    },
    {
      "cell_type": "markdown",
      "source": [
        "Recall that the question we are trying to answer for this project is: How much is the life expectancy rate for densely populated countries. We can use our dataset and our model to answer this question. \n",
        "\n",
        "From our dataset, we can pick two countries with differences in population and compare their life expectancies. Let us compare the country with the highest population and the country with the lowest population. Since our cleaned DataFrame contains the integer-encoded countries, we can consult our DataFrame that we created during the ETL process to find out what countries these are."
      ],
      "metadata": {
        "id": "7EOIkNbRJx2-"
      }
    },
    {
      "cell_type": "code",
      "source": [
        "most_populated = df[df.Population == df.Population.max()]\n",
        "most_populated"
      ],
      "metadata": {
        "colab": {
          "base_uri": "https://localhost:8080/",
          "height": 81
        },
        "id": "4VLDPlwnN2-a",
        "outputId": "3451285b-78cd-4372-88a5-77de10f979fd"
      },
      "execution_count": 14,
      "outputs": [
        {
          "output_type": "execute_result",
          "data": {
            "text/html": [
              "<div>\n",
              "<style scoped>\n",
              "    .dataframe tbody tr th:only-of-type {\n",
              "        vertical-align: middle;\n",
              "    }\n",
              "\n",
              "    .dataframe tbody tr th {\n",
              "        vertical-align: top;\n",
              "    }\n",
              "\n",
              "    .dataframe thead th {\n",
              "        text-align: right;\n",
              "    }\n",
              "</style>\n",
              "<table border=\"1\" class=\"dataframe\">\n",
              "  <thead>\n",
              "    <tr style=\"text-align: right;\">\n",
              "      <th></th>\n",
              "      <th>Status</th>\n",
              "      <th>Life Expectancy</th>\n",
              "      <th>Adult Mortality</th>\n",
              "      <th>GDP</th>\n",
              "      <th>Population</th>\n",
              "      <th>Schooling</th>\n",
              "      <th>Country_int</th>\n",
              "    </tr>\n",
              "  </thead>\n",
              "  <tbody>\n",
              "    <tr>\n",
              "      <th>560</th>\n",
              "      <td>0</td>\n",
              "      <td>76.1</td>\n",
              "      <td>85.0</td>\n",
              "      <td>869.211938</td>\n",
              "      <td>1.371220e+09</td>\n",
              "      <td>13.5</td>\n",
              "      <td>34</td>\n",
              "    </tr>\n",
              "  </tbody>\n",
              "</table>\n",
              "</div>"
            ],
            "text/plain": [
              "     Status  Life Expectancy  ...  Schooling  Country_int\n",
              "560       0             76.1  ...       13.5           34\n",
              "\n",
              "[1 rows x 7 columns]"
            ]
          },
          "metadata": {},
          "execution_count": 14
        }
      ]
    },
    {
      "cell_type": "code",
      "source": [
        "least_populated = df[df.Population == df.Population.min()]\n",
        "least_populated"
      ],
      "metadata": {
        "colab": {
          "base_uri": "https://localhost:8080/",
          "height": 81
        },
        "id": "XbPuhTNSQkMJ",
        "outputId": "ee7b52bf-7241-409d-8b5f-139633be20f4"
      },
      "execution_count": 15,
      "outputs": [
        {
          "output_type": "execute_result",
          "data": {
            "text/html": [
              "<div>\n",
              "<style scoped>\n",
              "    .dataframe tbody tr th:only-of-type {\n",
              "        vertical-align: middle;\n",
              "    }\n",
              "\n",
              "    .dataframe tbody tr th {\n",
              "        vertical-align: top;\n",
              "    }\n",
              "\n",
              "    .dataframe thead th {\n",
              "        text-align: right;\n",
              "    }\n",
              "</style>\n",
              "<table border=\"1\" class=\"dataframe\">\n",
              "  <thead>\n",
              "    <tr style=\"text-align: right;\">\n",
              "      <th></th>\n",
              "      <th>Status</th>\n",
              "      <th>Life Expectancy</th>\n",
              "      <th>Adult Mortality</th>\n",
              "      <th>GDP</th>\n",
              "      <th>Population</th>\n",
              "      <th>Schooling</th>\n",
              "      <th>Country_int</th>\n",
              "    </tr>\n",
              "  </thead>\n",
              "  <tbody>\n",
              "    <tr>\n",
              "      <th>1812</th>\n",
              "      <td>0</td>\n",
              "      <td>69.224932</td>\n",
              "      <td>164.796448</td>\n",
              "      <td>136.18321</td>\n",
              "      <td>10208.0</td>\n",
              "      <td>9.6</td>\n",
              "      <td>117</td>\n",
              "    </tr>\n",
              "  </tbody>\n",
              "</table>\n",
              "</div>"
            ],
            "text/plain": [
              "      Status  Life Expectancy  ...  Schooling  Country_int\n",
              "1812       0        69.224932  ...        9.6          117\n",
              "\n",
              "[1 rows x 7 columns]"
            ]
          },
          "metadata": {},
          "execution_count": 15
        }
      ]
    },
    {
      "cell_type": "markdown",
      "source": [
        "Now we have the integer-encoded countries, we can find out the assigned countries:"
      ],
      "metadata": {
        "id": "JROETM7UYls4"
      }
    },
    {
      "cell_type": "code",
      "source": [
        "print(countries_codes[countries_codes['Country_int'] == 34].head(1))\n",
        "print(countries_codes[countries_codes['Country_int'] == 117].head(1))"
      ],
      "metadata": {
        "colab": {
          "base_uri": "https://localhost:8080/"
        },
        "id": "hdQ7gfxHXKip",
        "outputId": "c5ab4740-4e72-467d-dd6e-5af12690ae0d"
      },
      "execution_count": 16,
      "outputs": [
        {
          "output_type": "stream",
          "name": "stdout",
          "text": [
            "    Country  Country_int\n",
            "560   China           34\n",
            "     Country  Country_int\n",
            "1812   Nauru          117\n"
          ]
        }
      ]
    },
    {
      "cell_type": "markdown",
      "source": [
        "According to our data, the most populated country is China with approximately 1.3B and the least populated country is Nauru with 10208."
      ],
      "metadata": {
        "id": "_XVZb1QZYt72"
      }
    },
    {
      "cell_type": "code",
      "source": [
        "ax = most_populated.append(least_populated).plot.bar(x='Population', y='Life Expectancy', rot=0)\n",
        "ax.set_xlabel(\"Population\")\n",
        "ax.set_ylabel(\"Actual Life Expectancy Rate\")\n",
        "ax.set_title(\"Actual Population vs. Life Expectancy\")\n",
        "plt.show()"
      ],
      "metadata": {
        "colab": {
          "base_uri": "https://localhost:8080/",
          "height": 295
        },
        "id": "L6Hf55CDd0WW",
        "outputId": "e04c81e5-0231-4de2-90c2-9bdd9b174894"
      },
      "execution_count": 23,
      "outputs": [
        {
          "output_type": "display_data",
          "data": {
            "image/png": "[encoded data removed]",
            "text/plain": [
              "<Figure size 432x288 with 1 Axes>"
            ]
          },
          "metadata": {
            "needs_background": "light"
          }
        }
      ]
    },
    {
      "cell_type": "markdown",
      "source": [
        "From the code and the graph, we can see that China with a 1.3B population has a higher life expectancy rate than Nauru with a 10K population. Thus, from our data, we can conclude that densely populated countries have a higher life expectancy rate."
      ],
      "metadata": {
        "id": "X6H9LIDTeH5n"
      }
    },
    {
      "cell_type": "markdown",
      "source": [
        "Let's use the model we built to answer (and support) our data science question. For this, we decided to pick a country and change the `Population` column keeping all other variables constant and see how our model predicts its life expectancy rate. We decided to use United States and we need to find its country integer coded number."
      ],
      "metadata": {
        "id": "W7k4LiCPejwE"
      }
    },
    {
      "cell_type": "code",
      "source": [
        "# Get the country integer code\n",
        "countries_codes[countries_codes['Country'] == 'United States of America'].head(1)"
      ],
      "metadata": {
        "colab": {
          "base_uri": "https://localhost:8080/",
          "height": 81
        },
        "id": "cEA9y_syfWCJ",
        "outputId": "3a4918ca-5a4c-4471-f976-0ca70d0fbe01"
      },
      "execution_count": 18,
      "outputs": [
        {
          "output_type": "execute_result",
          "data": {
            "text/html": [
              "<div>\n",
              "<style scoped>\n",
              "    .dataframe tbody tr th:only-of-type {\n",
              "        vertical-align: middle;\n",
              "    }\n",
              "\n",
              "    .dataframe tbody tr th {\n",
              "        vertical-align: top;\n",
              "    }\n",
              "\n",
              "    .dataframe thead th {\n",
              "        text-align: right;\n",
              "    }\n",
              "</style>\n",
              "<table border=\"1\" class=\"dataframe\">\n",
              "  <thead>\n",
              "    <tr style=\"text-align: right;\">\n",
              "      <th></th>\n",
              "      <th>Country</th>\n",
              "      <th>Country_int</th>\n",
              "    </tr>\n",
              "  </thead>\n",
              "  <tbody>\n",
              "    <tr>\n",
              "      <th>2794</th>\n",
              "      <td>United States of America</td>\n",
              "      <td>184</td>\n",
              "    </tr>\n",
              "  </tbody>\n",
              "</table>\n",
              "</div>"
            ],
            "text/plain": [
              "                       Country  Country_int\n",
              "2794  United States of America          184"
            ]
          },
          "metadata": {},
          "execution_count": 18
        }
      ]
    },
    {
      "cell_type": "code",
      "source": [
        "# Create a DataFrame with values and increase population while other variables are constant\n",
        "united_states = pd.DataFrame({\n",
        "    'Status':1,\n",
        "    'Adult Mortality': [13,13,13,13,13],\n",
        "    'GDP': [7483.158469,7483.158469,7483.158469,7483.158469,7483.158469],\n",
        "    'Population': [320738994,330738994,340738994,350738994,360738994],\n",
        "    'Schooling':[11.992793,11.992793,11.992793,11.992793,11.992793],\n",
        "    'Country_int': [184,184,184,184,184]\n",
        "})\n",
        "united_states"
      ],
      "metadata": {
        "id": "xchTeCJ1pWxi",
        "colab": {
          "base_uri": "https://localhost:8080/",
          "height": 206
        },
        "outputId": "cfc26023-3181-435e-c20c-594e0cba4db9"
      },
      "execution_count": 19,
      "outputs": [
        {
          "output_type": "execute_result",
          "data": {
            "text/html": [
              "<div>\n",
              "<style scoped>\n",
              "    .dataframe tbody tr th:only-of-type {\n",
              "        vertical-align: middle;\n",
              "    }\n",
              "\n",
              "    .dataframe tbody tr th {\n",
              "        vertical-align: top;\n",
              "    }\n",
              "\n",
              "    .dataframe thead th {\n",
              "        text-align: right;\n",
              "    }\n",
              "</style>\n",
              "<table border=\"1\" class=\"dataframe\">\n",
              "  <thead>\n",
              "    <tr style=\"text-align: right;\">\n",
              "      <th></th>\n",
              "      <th>Status</th>\n",
              "      <th>Adult Mortality</th>\n",
              "      <th>GDP</th>\n",
              "      <th>Population</th>\n",
              "      <th>Schooling</th>\n",
              "      <th>Country_int</th>\n",
              "    </tr>\n",
              "  </thead>\n",
              "  <tbody>\n",
              "    <tr>\n",
              "      <th>0</th>\n",
              "      <td>1</td>\n",
              "      <td>13</td>\n",
              "      <td>7483.158469</td>\n",
              "      <td>320738994</td>\n",
              "      <td>11.992793</td>\n",
              "      <td>184</td>\n",
              "    </tr>\n",
              "    <tr>\n",
              "      <th>1</th>\n",
              "      <td>1</td>\n",
              "      <td>13</td>\n",
              "      <td>7483.158469</td>\n",
              "      <td>330738994</td>\n",
              "      <td>11.992793</td>\n",
              "      <td>184</td>\n",
              "    </tr>\n",
              "    <tr>\n",
              "      <th>2</th>\n",
              "      <td>1</td>\n",
              "      <td>13</td>\n",
              "      <td>7483.158469</td>\n",
              "      <td>340738994</td>\n",
              "      <td>11.992793</td>\n",
              "      <td>184</td>\n",
              "    </tr>\n",
              "    <tr>\n",
              "      <th>3</th>\n",
              "      <td>1</td>\n",
              "      <td>13</td>\n",
              "      <td>7483.158469</td>\n",
              "      <td>350738994</td>\n",
              "      <td>11.992793</td>\n",
              "      <td>184</td>\n",
              "    </tr>\n",
              "    <tr>\n",
              "      <th>4</th>\n",
              "      <td>1</td>\n",
              "      <td>13</td>\n",
              "      <td>7483.158469</td>\n",
              "      <td>360738994</td>\n",
              "      <td>11.992793</td>\n",
              "      <td>184</td>\n",
              "    </tr>\n",
              "  </tbody>\n",
              "</table>\n",
              "</div>"
            ],
            "text/plain": [
              "   Status  Adult Mortality          GDP  Population  Schooling  Country_int\n",
              "0       1               13  7483.158469   320738994  11.992793          184\n",
              "1       1               13  7483.158469   330738994  11.992793          184\n",
              "2       1               13  7483.158469   340738994  11.992793          184\n",
              "3       1               13  7483.158469   350738994  11.992793          184\n",
              "4       1               13  7483.158469   360738994  11.992793          184"
            ]
          },
          "metadata": {},
          "execution_count": 19
        }
      ]
    },
    {
      "cell_type": "code",
      "source": [
        "# Predict life expectancy of the DataFrame we just created\n",
        "life_exp = reg.predict(united_states)"
      ],
      "metadata": {
        "id": "X0YF3QPfqPtT"
      },
      "execution_count": 20,
      "outputs": []
    },
    {
      "cell_type": "code",
      "source": [
        "# Append the predictions as a column on the Dataframe\n",
        "united_states['Life Expectancy'] = life_exp\n",
        "united_states"
      ],
      "metadata": {
        "colab": {
          "base_uri": "https://localhost:8080/",
          "height": 206
        },
        "id": "GaCvT3bYqT5W",
        "outputId": "649db634-8074-4485-b440-2105983d9a46"
      },
      "execution_count": 21,
      "outputs": [
        {
          "output_type": "execute_result",
          "data": {
            "text/html": [
              "<div>\n",
              "<style scoped>\n",
              "    .dataframe tbody tr th:only-of-type {\n",
              "        vertical-align: middle;\n",
              "    }\n",
              "\n",
              "    .dataframe tbody tr th {\n",
              "        vertical-align: top;\n",
              "    }\n",
              "\n",
              "    .dataframe thead th {\n",
              "        text-align: right;\n",
              "    }\n",
              "</style>\n",
              "<table border=\"1\" class=\"dataframe\">\n",
              "  <thead>\n",
              "    <tr style=\"text-align: right;\">\n",
              "      <th></th>\n",
              "      <th>Status</th>\n",
              "      <th>Adult Mortality</th>\n",
              "      <th>GDP</th>\n",
              "      <th>Population</th>\n",
              "      <th>Schooling</th>\n",
              "      <th>Country_int</th>\n",
              "      <th>Life Expectancy</th>\n",
              "    </tr>\n",
              "  </thead>\n",
              "  <tbody>\n",
              "    <tr>\n",
              "      <th>0</th>\n",
              "      <td>1</td>\n",
              "      <td>13</td>\n",
              "      <td>7483.158469</td>\n",
              "      <td>320738994</td>\n",
              "      <td>11.992793</td>\n",
              "      <td>184</td>\n",
              "      <td>77.033361</td>\n",
              "    </tr>\n",
              "    <tr>\n",
              "      <th>1</th>\n",
              "      <td>1</td>\n",
              "      <td>13</td>\n",
              "      <td>7483.158469</td>\n",
              "      <td>330738994</td>\n",
              "      <td>11.992793</td>\n",
              "      <td>184</td>\n",
              "      <td>77.048526</td>\n",
              "    </tr>\n",
              "    <tr>\n",
              "      <th>2</th>\n",
              "      <td>1</td>\n",
              "      <td>13</td>\n",
              "      <td>7483.158469</td>\n",
              "      <td>340738994</td>\n",
              "      <td>11.992793</td>\n",
              "      <td>184</td>\n",
              "      <td>77.063690</td>\n",
              "    </tr>\n",
              "    <tr>\n",
              "      <th>3</th>\n",
              "      <td>1</td>\n",
              "      <td>13</td>\n",
              "      <td>7483.158469</td>\n",
              "      <td>350738994</td>\n",
              "      <td>11.992793</td>\n",
              "      <td>184</td>\n",
              "      <td>77.078855</td>\n",
              "    </tr>\n",
              "    <tr>\n",
              "      <th>4</th>\n",
              "      <td>1</td>\n",
              "      <td>13</td>\n",
              "      <td>7483.158469</td>\n",
              "      <td>360738994</td>\n",
              "      <td>11.992793</td>\n",
              "      <td>184</td>\n",
              "      <td>77.094020</td>\n",
              "    </tr>\n",
              "  </tbody>\n",
              "</table>\n",
              "</div>"
            ],
            "text/plain": [
              "   Status  Adult Mortality  ...  Country_int  Life Expectancy\n",
              "0       1               13  ...          184        77.033361\n",
              "1       1               13  ...          184        77.048526\n",
              "2       1               13  ...          184        77.063690\n",
              "3       1               13  ...          184        77.078855\n",
              "4       1               13  ...          184        77.094020\n",
              "\n",
              "[5 rows x 7 columns]"
            ]
          },
          "metadata": {},
          "execution_count": 21
        }
      ]
    },
    {
      "cell_type": "code",
      "source": [
        "# Plot population and its predicted life expectancy \n",
        "ax = united_states.plot.line(x='Population', y='Life Expectancy')\n",
        "ax.set_xlabel(\"Population\")\n",
        "ax.set_ylabel(\"Predicted Life Expectancy Rate\")\n",
        "ax.set_title(\"Population vs. Predicted Life Expectancy\")\n",
        "plt.show()"
      ],
      "metadata": {
        "colab": {
          "base_uri": "https://localhost:8080/",
          "height": 295
        },
        "id": "vrjznVxhf9WO",
        "outputId": "29c87195-8a9f-43ef-8458-e737d945eb37"
      },
      "execution_count": 22,
      "outputs": [
        {
          "output_type": "display_data",
          "data": {
            "image/png": "[encoded data removed]",
            "text/plain": [
              "<Figure size 432x288 with 1 Axes>"
            ]
          },
          "metadata": {
            "needs_background": "light"
          }
        }
      ]
    },
    {
      "cell_type": "markdown",
      "source": [
        "As we can see in the DataFrame and the graph, when we increase the population (in other words, making the population denser), the rate of life expectancy increases (although by very little)."
      ],
      "metadata": {
        "id": "626MhZQggHjX"
      }
    },
    {
      "cell_type": "markdown",
      "source": [
        "In conclusion, more densely populated countries have a higher life expectancy according to our model predictions and the data provided. Although other factors within our dataset affect the life expectancy rate more than population density, we can still observe how population density might affect it when keeping other variables constant. The reason why an increased population causes an increase in life expectancy rate might be because as the population increases for a country, there might be more resources and opportunities for its population such as health resources, economy increases, etc. So, population density affects other factors such as health factors and socio economic factors which can directly affect life expectancy rates in a country."
      ],
      "metadata": {
        "id": "OEAQlRAzsGgw"
      }
    }
  ]
}